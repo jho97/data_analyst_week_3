{
 "cells": [
  {
   "cell_type": "code",
   "execution_count": 1,
   "id": "5ead0c7a",
   "metadata": {},
   "outputs": [
    {
     "data": {
      "text/html": [
       "        <script type=\"text/javascript\">\n",
       "        window.PlotlyConfig = {MathJaxConfig: 'local'};\n",
       "        if (window.MathJax && window.MathJax.Hub && window.MathJax.Hub.Config) {window.MathJax.Hub.Config({SVG: {font: \"STIX-Web\"}});}\n",
       "        if (typeof require !== 'undefined') {\n",
       "        require.undef(\"plotly\");\n",
       "        requirejs.config({\n",
       "            paths: {\n",
       "                'plotly': ['https://cdn.plot.ly/plotly-2.12.1.min']\n",
       "            }\n",
       "        });\n",
       "        require(['plotly'], function(Plotly) {\n",
       "            window._Plotly = Plotly;\n",
       "        });\n",
       "        }\n",
       "        </script>\n",
       "        "
      ]
     },
     "metadata": {},
     "output_type": "display_data"
    }
   ],
   "source": [
    "import chart_studio.plotly as py\n",
    "import plotly.offline as offline\n",
    "import plotly.graph_objs as go\n",
    "\n",
    "offline.init_notebook_mode(connected=True)"
   ]
  },
  {
   "cell_type": "code",
   "execution_count": 2,
   "id": "6976b628",
   "metadata": {},
   "outputs": [],
   "source": [
    "#### Install Pandas Data Reader\n",
    "# Pandas Data Reader is a tool to download data from a variety of remote sources into a Pandas dataframe. The list of remote sources currently supported can be found here: <br />\n",
    "# http://pandas-datareader.readthedocs.io/en/latest/remote_data.html\n",
    "\n",
    "# A number of data sources are supported, including Google Finance, IEX, World Bank etc. \n",
    "# Functions from pandas_datareader.data and pandas_datareader.wb extract data from various Internet\n",
    "# sources into a pandas DataFrame. Currently the following sources are supported:\n",
    "# • Google Finance\n",
    "# • Morningstar\n",
    "# • IEX\n",
    "# • Robinhood\n",
    "# • Enigma\n",
    "# • Quandl\n",
    "# • St.Louis FED (FRED)\n",
    "# • Kenneth French’s data library\n",
    "# • World Bank\n",
    "# • OECD\n",
    "# • Eurostat\n",
    "# • Thrift Savings Plan\n",
    "# • Nasdaq Trader symbol definitions\n",
    "# • Stooq\n",
    "# • MOEX"
   ]
  },
  {
   "cell_type": "code",
   "execution_count": 3,
   "id": "f635a7d0",
   "metadata": {
    "scrolled": true
   },
   "outputs": [
    {
     "name": "stdout",
     "output_type": "stream",
     "text": [
      "Requirement already satisfied: pandas_datareader in /Users/jonathanho/opt/anaconda3/envs/VirtEnv/lib/python3.7/site-packages (0.10.0)\n",
      "Requirement already satisfied: requests>=2.19.0 in /Users/jonathanho/opt/anaconda3/envs/VirtEnv/lib/python3.7/site-packages (from pandas_datareader) (2.27.1)\n",
      "Requirement already satisfied: pandas>=0.23 in /Users/jonathanho/opt/anaconda3/envs/VirtEnv/lib/python3.7/site-packages (from pandas_datareader) (1.3.5)\n",
      "Requirement already satisfied: lxml in /Users/jonathanho/opt/anaconda3/envs/VirtEnv/lib/python3.7/site-packages (from pandas_datareader) (4.8.0)\n",
      "Requirement already satisfied: python-dateutil>=2.7.3 in /Users/jonathanho/opt/anaconda3/envs/VirtEnv/lib/python3.7/site-packages (from pandas>=0.23->pandas_datareader) (2.8.2)\n",
      "Requirement already satisfied: pytz>=2017.3 in /Users/jonathanho/opt/anaconda3/envs/VirtEnv/lib/python3.7/site-packages (from pandas>=0.23->pandas_datareader) (2021.3)\n",
      "Requirement already satisfied: numpy>=1.17.3 in /Users/jonathanho/opt/anaconda3/envs/VirtEnv/lib/python3.7/site-packages (from pandas>=0.23->pandas_datareader) (1.21.5)\n",
      "Requirement already satisfied: six>=1.5 in /Users/jonathanho/opt/anaconda3/envs/VirtEnv/lib/python3.7/site-packages (from python-dateutil>=2.7.3->pandas>=0.23->pandas_datareader) (1.16.0)\n",
      "Requirement already satisfied: idna<4,>=2.5 in /Users/jonathanho/opt/anaconda3/envs/VirtEnv/lib/python3.7/site-packages (from requests>=2.19.0->pandas_datareader) (3.3)\n",
      "Requirement already satisfied: urllib3<1.27,>=1.21.1 in /Users/jonathanho/opt/anaconda3/envs/VirtEnv/lib/python3.7/site-packages (from requests>=2.19.0->pandas_datareader) (1.26.9)\n",
      "Requirement already satisfied: certifi>=2017.4.17 in /Users/jonathanho/opt/anaconda3/envs/VirtEnv/lib/python3.7/site-packages (from requests>=2.19.0->pandas_datareader) (2021.10.8)\n",
      "Requirement already satisfied: charset-normalizer~=2.0.0 in /Users/jonathanho/opt/anaconda3/envs/VirtEnv/lib/python3.7/site-packages (from requests>=2.19.0->pandas_datareader) (2.0.4)\n"
     ]
    }
   ],
   "source": [
    "!pip3 install pandas_datareader --upgrade"
   ]
  },
  {
   "cell_type": "code",
   "execution_count": 13,
   "id": "24ef12a1",
   "metadata": {},
   "outputs": [
    {
     "ename": "AttributeError",
     "evalue": "'DataFrame' object has no attribute 'Date'",
     "output_type": "error",
     "traceback": [
      "\u001b[0;31m---------------------------------------------------------------------------\u001b[0m",
      "\u001b[0;31mAttributeError\u001b[0m                            Traceback (most recent call last)",
      "\u001b[0;32m/var/folders/7l/pflnpn3514n8ldfcmnrpr5q00000gn/T/ipykernel_9885/1789453316.py\u001b[0m in \u001b[0;36m<module>\u001b[0;34m\u001b[0m\n\u001b[1;32m      1\u001b[0m \u001b[0;31m# This will produce a time series\u001b[0m\u001b[0;34m\u001b[0m\u001b[0;34m\u001b[0m\u001b[0;34m\u001b[0m\u001b[0m\n\u001b[0;32m----> 2\u001b[0;31m data = [go.Scatter(x=df.Date, \n\u001b[0m\u001b[1;32m      3\u001b[0m                    y=df.High)]\n\u001b[1;32m      4\u001b[0m \u001b[0;34m\u001b[0m\u001b[0m\n\u001b[1;32m      5\u001b[0m \u001b[0moffline\u001b[0m\u001b[0;34m.\u001b[0m\u001b[0miplot\u001b[0m\u001b[0;34m(\u001b[0m\u001b[0mdata\u001b[0m\u001b[0;34m)\u001b[0m\u001b[0;34m\u001b[0m\u001b[0;34m\u001b[0m\u001b[0m\n",
      "\u001b[0;32m~/opt/anaconda3/envs/VirtEnv/lib/python3.7/site-packages/pandas/core/generic.py\u001b[0m in \u001b[0;36m__getattr__\u001b[0;34m(self, name)\u001b[0m\n\u001b[1;32m   5485\u001b[0m         ):\n\u001b[1;32m   5486\u001b[0m             \u001b[0;32mreturn\u001b[0m \u001b[0mself\u001b[0m\u001b[0;34m[\u001b[0m\u001b[0mname\u001b[0m\u001b[0;34m]\u001b[0m\u001b[0;34m\u001b[0m\u001b[0;34m\u001b[0m\u001b[0m\n\u001b[0;32m-> 5487\u001b[0;31m         \u001b[0;32mreturn\u001b[0m \u001b[0mobject\u001b[0m\u001b[0;34m.\u001b[0m\u001b[0m__getattribute__\u001b[0m\u001b[0;34m(\u001b[0m\u001b[0mself\u001b[0m\u001b[0;34m,\u001b[0m \u001b[0mname\u001b[0m\u001b[0;34m)\u001b[0m\u001b[0;34m\u001b[0m\u001b[0;34m\u001b[0m\u001b[0m\n\u001b[0m\u001b[1;32m   5488\u001b[0m \u001b[0;34m\u001b[0m\u001b[0m\n\u001b[1;32m   5489\u001b[0m     \u001b[0;32mdef\u001b[0m \u001b[0m__setattr__\u001b[0m\u001b[0;34m(\u001b[0m\u001b[0mself\u001b[0m\u001b[0;34m,\u001b[0m \u001b[0mname\u001b[0m\u001b[0;34m:\u001b[0m \u001b[0mstr\u001b[0m\u001b[0;34m,\u001b[0m \u001b[0mvalue\u001b[0m\u001b[0;34m)\u001b[0m \u001b[0;34m->\u001b[0m \u001b[0;32mNone\u001b[0m\u001b[0;34m:\u001b[0m\u001b[0;34m\u001b[0m\u001b[0;34m\u001b[0m\u001b[0m\n",
      "\u001b[0;31mAttributeError\u001b[0m: 'DataFrame' object has no attribute 'Date'"
     ]
    }
   ],
   "source": [
    "from datetime import datetime\n",
    "import pandas as pd\n",
    "pd.core.common.is_list_like = pd.api.types.is_list_like\n",
    "\n",
    "import pandas_datareader.data as web"
   ]
  },
  {
   "cell_type": "code",
   "execution_count": null,
   "id": "009927bd",
   "metadata": {},
   "outputs": [],
   "source": [
    "amzn = web.DataReader('AMZN', 'morningstar',\n",
    "                      \n",
    "                      datetime(2017, 1, 1),\n",
    "                      datetime(2018, 6, 1)).reset_index()\n",
    "\n",
    "amzn.head()"
   ]
  },
  {
   "cell_type": "code",
   "execution_count": null,
   "id": "0facfb28",
   "metadata": {},
   "outputs": [],
   "source": [
    "data = [go.Scatter(x=amzn.Date, \n",
    "                   y=amzn.High)]\n",
    "\n",
    "offline.iplot(data)"
   ]
  },
  {
   "cell_type": "code",
   "execution_count": null,
   "id": "8067a36a",
   "metadata": {},
   "outputs": [],
   "source": [
    "trace_high = go.Scatter(x=amzn.Date,\n",
    "                        y=amzn.High,\n",
    "                        \n",
    "                        name = \"Amazon High\",\n",
    "                        \n",
    "                        line = dict(color = '#6699FF')\n",
    "                       )"
   ]
  },
  {
   "cell_type": "code",
   "execution_count": null,
   "id": "9355c4b7",
   "metadata": {},
   "outputs": [],
   "source": [
    "trace_low = go.Scatter(x=amzn.Date,\n",
    "                       y=amzn.Low,\n",
    "                       \n",
    "                       name = \"Amazon Low\",\n",
    "                       \n",
    "                       line = dict(color = '#FF6633')\n",
    "                      )\n",
    "data = [trace_high, trace_low]"
   ]
  },
  {
   "cell_type": "code",
   "execution_count": null,
   "id": "ffd2cdbb",
   "metadata": {},
   "outputs": [],
   "source": [
    "#### Plot Amazon high and low on the same graph"
   ]
  },
  {
   "cell_type": "code",
   "execution_count": null,
   "id": "43a6f36b",
   "metadata": {},
   "outputs": [],
   "source": [
    "trace_high = go.Scatter(x=amzn.Date,\n",
    "                        y=amzn.High,\n",
    "                        \n",
    "                        name = \"Amazon High\",\n",
    "                        \n",
    "                        line = dict(color = '#6699FF')"
   ]
  },
  {
   "cell_type": "code",
   "execution_count": null,
   "id": "7563e413",
   "metadata": {},
   "outputs": [],
   "source": [
    "trace_low = go.Scatter(x=amzn.Date,\n",
    "                       y=amzn.Low,\n",
    "                       \n",
    "                       name = \"Amazon Low\",\n",
    "                       \n",
    "                       line = dict(color = '#FF6633')\n",
    "                      )\n",
    "data = [trace_high, trace_low]"
   ]
  },
  {
   "cell_type": "code",
   "execution_count": null,
   "id": "207ff214",
   "metadata": {},
   "outputs": [],
   "source": [
    "layout = dict(title = \"Amazon Stock Price Data \")\n",
    "fig = dict(data=data, \n",
    "           layout=layout)\n",
    "\n",
    "offline.iplot(fig)"
   ]
  },
  {
   "cell_type": "code",
   "execution_count": null,
   "id": "b8b197cc",
   "metadata": {},
   "outputs": [],
   "source": [
    "### Range slider"
   ]
  },
  {
   "cell_type": "code",
   "execution_count": null,
   "id": "a9408458",
   "metadata": {},
   "outputs": [],
   "source": [
    "We can add a range slider to an axis to allow the range of data displayed to be restricted\n",
    "layout = dict(title = 'Amazon Stock Price Data',\n",
    "              \n",
    "              xaxis = dict(rangeslider=dict(),\n",
    "                           type='date')\n",
    "             )\n",
    "fig = dict(data=data, \n",
    "           layout=layout)\n",
    "\n",
    "offline.iplot(fig)"
   ]
  },
  {
   "cell_type": "code",
   "execution_count": null,
   "id": "74553d55",
   "metadata": {},
   "outputs": [],
   "source": [
    "#### Range Selector\n",
    "# In addition to range sliders, we can include rangeselector buttons where we can quickly restrict the plotted range:\n",
    "# * <b>step</b> is a time interval to set the range. Can be year, month, day, hour, minute, second and all\n",
    "# * <b>stepmode</b> value can be 'todate' or 'backward'. \n",
    "#  * A value of 'todate' with a step of 'month' means that the left of the range slider will move to the start of the month (and the right will remain where it is)\n",
    "#  * A value of 'backward' will keep the right slider where it is, and shift the left slider back by the value of count. In our example, the left slider will move back 6 months from the position of the right slider"
   ]
  },
  {
   "cell_type": "code",
   "execution_count": null,
   "id": "f9c2c0b4",
   "metadata": {},
   "outputs": [],
   "source": [
    "layout = dict(\n",
    "    \n",
    "    title = 'Amazon Stock Price Data ',\n",
    "    \n",
    "    xaxis = dict(rangeselector = dict(buttons = list([dict(count = 1,\n",
    "                                                           label = '1m',\n",
    "                                                           step = 'month',\n",
    "                                                           stepmode = 'todate'),\n",
    "                                                  \n",
    "                                                      dict(count = 6,\n",
    "                                                           label = '6m',\n",
    "                                                           step = 'month',\n",
    "                                                           stepmode = 'backward'),\n",
    "                                                  \n",
    "                                                      dict(step = 'all')])\n",
    "                                     ),\n",
    "                 \n",
    "                 rangeslider=dict(),\n",
    "                 type='date'\n",
    "    )\n",
    ")"
   ]
  },
  {
   "cell_type": "code",
   "execution_count": null,
   "id": "80b004e9",
   "metadata": {},
   "outputs": [],
   "source": [
    "fig = dict(data=data, \n",
    "           layout=layout)\n",
    "\n",
    "offline.iplot(fig)"
   ]
  }
 ],
 "metadata": {
  "kernelspec": {
   "display_name": "Python 3 (ipykernel)",
   "language": "python",
   "name": "python3"
  },
  "language_info": {
   "codemirror_mode": {
    "name": "ipython",
    "version": 3
   },
   "file_extension": ".py",
   "mimetype": "text/x-python",
   "name": "python",
   "nbconvert_exporter": "python",
   "pygments_lexer": "ipython3",
   "version": "3.7.13"
  }
 },
 "nbformat": 4,
 "nbformat_minor": 5
}
