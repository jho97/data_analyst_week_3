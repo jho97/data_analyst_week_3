{
 "cells": [
  {
   "cell_type": "code",
   "execution_count": null,
   "id": "599aa670",
   "metadata": {},
   "outputs": [],
   "source": [
    "import chart_studio.plotly as py\n",
    "import plotly.offline as offline\n",
    "import plotly.graph_objs as go\n",
    "import pandas as pd\n",
    "import numpy as np\n",
    "\n",
    "\n",
    "offline.init_notebook_mode(connected=True)"
   ]
  },
  {
   "cell_type": "code",
   "execution_count": null,
   "id": "043ee566",
   "metadata": {},
   "outputs": [],
   "source": [
    "#### Plot a simple heatmap\n",
    "# The required argument for a Heatmap is <b>z</b> - a 2D list containing the set of values which need to be portrayed using a colorscale. THe heatmap is a 2D grid in the same shape as z with different colors denoting the values of the elements of z. \n",
    "\n",
    "# The simplest heatmap is a single 1-dimensional list"
   ]
  },
  {
   "cell_type": "code",
   "execution_count": null,
   "id": "d0fe0dbf",
   "metadata": {},
   "outputs": [],
   "source": [
    "trace = go.Heatmap(z = [[2, 40, 60]])"
   ]
  },
  {
   "cell_type": "code",
   "execution_count": null,
   "id": "a683ecaa",
   "metadata": {},
   "outputs": [],
   "source": [
    "#### By default, the color scale is displayed"
   ]
  },
  {
   "cell_type": "code",
   "execution_count": null,
   "id": "3f3a5afa",
   "metadata": {},
   "outputs": [],
   "source": [
    "data=[trace]\n",
    "\n",
    "offline.iplot(data)"
   ]
  },
  {
   "cell_type": "code",
   "execution_count": null,
   "id": "917aa4b6",
   "metadata": {},
   "outputs": [],
   "source": [
    "#### The more common case is to use a proper 2D list"
   ]
  },
  {
   "cell_type": "code",
   "execution_count": null,
   "id": "4ff396d8",
   "metadata": {},
   "outputs": [],
   "source": [
    "trace = go.Heatmap(z = [[2, 40, 60], \n",
    "                       [31, 3, 18], \n",
    "                       [24, 13, 54]])"
   ]
  },
  {
   "cell_type": "code",
   "execution_count": null,
   "id": "cf222213",
   "metadata": {},
   "outputs": [],
   "source": [
    "#### The first list is at the bottom of the heatmap"
   ]
  },
  {
   "cell_type": "code",
   "execution_count": null,
   "id": "e043e126",
   "metadata": {},
   "outputs": [],
   "source": [
    "data=[trace]\n",
    "\n",
    "offline.iplot(data)"
   ]
  },
  {
   "cell_type": "code",
   "execution_count": null,
   "id": "332570e7",
   "metadata": {},
   "outputs": [],
   "source": [
    "### A more practical example\n",
    "# One can plot a heatmap using categorical data for the X and Y axes. The values in these axes must be unique. This will plot a grid if the shape (x,y) and z must conform to that shape\n",
    "\n",
    "# Consider there are three cartons with 5 different varieties of fruits. And z is number of the respective fruit in the carton"
   ]
  },
  {
   "cell_type": "code",
   "execution_count": null,
   "id": "11e6e56f",
   "metadata": {},
   "outputs": [],
   "source": [
    "x=['Mango', 'Strawberry', 'Mulberry', 'Orange', 'Watermelon']\n",
    "\n",
    "y=['Carton 1', 'Carton 2', 'Carton 3']"
   ]
  },
  {
   "cell_type": "code",
   "execution_count": null,
   "id": "05474261",
   "metadata": {},
   "outputs": [],
   "source": [
    "#### Plot the heatmap\n",
    "# We specify a colorscale to use. We specify the reversecale attibute which reverses the colors used in the colorscale. For example, with our reversescale, the lower z values are represented by yellow and the higher values are dark blue. Without the reversescale, this would have been reversed. "
   ]
  },
  {
   "cell_type": "code",
   "execution_count": null,
   "id": "0d33898e",
   "metadata": {},
   "outputs": [],
   "source": [
    "trace = go.Heatmap(z = [[10, 20, 30, 40, 10], \n",
    "                       [20, 10, 50, 80, 30], \n",
    "                       [30, 50, 60, 10,  0]],\n",
    "                   \n",
    "                   x = x,\n",
    "                   y = y,\n",
    "                   \n",
    "                   colorscale = 'Viridis',\n",
    "                   reversescale = True\n",
    "                  )\n",
    "\n",
    "data=[trace]"
   ]
  },
  {
   "cell_type": "code",
   "execution_count": null,
   "id": "f9774c1d",
   "metadata": {},
   "outputs": [],
   "source": [
    "offline.iplot(data)"
   ]
  }
 ],
 "metadata": {
  "kernelspec": {
   "display_name": "Python 3 (ipykernel)",
   "language": "python",
   "name": "python3"
  },
  "language_info": {
   "codemirror_mode": {
    "name": "ipython",
    "version": 3
   },
   "file_extension": ".py",
   "mimetype": "text/x-python",
   "name": "python",
   "nbconvert_exporter": "python",
   "pygments_lexer": "ipython3",
   "version": "3.7.13"
  }
 },
 "nbformat": 4,
 "nbformat_minor": 5
}
