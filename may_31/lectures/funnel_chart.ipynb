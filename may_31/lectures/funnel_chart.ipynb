{
 "cells": [
  {
   "cell_type": "code",
   "execution_count": null,
   "id": "8267e81f",
   "metadata": {},
   "outputs": [],
   "source": [
    "import chart_studio.plotly as py\n",
    "import plotly.offline as offline\n",
    "import plotly.graph_objs as go\n",
    "import pandas as pd\n",
    "import numpy as np\n",
    "\n",
    "\n",
    "offline.init_notebook_mode(connected=True)"
   ]
  },
  {
   "cell_type": "code",
   "execution_count": null,
   "id": "c012f0c3",
   "metadata": {},
   "outputs": [],
   "source": [
    "#### Load the data\n",
    "# Consider an e-commerce website which needs to track customer behaviour. It has defined different phases which a customer can be in when making a purchase starting from Viewing their cart contents. \n",
    "\n",
    "# As these steps can only be followed in sequence, the number of customers who get to a particular phase are always a subset of those who entered the previous phase."
   ]
  },
  {
   "cell_type": "code",
   "execution_count": null,
   "id": "aa2b40a0",
   "metadata": {},
   "outputs": [],
   "source": [
    "data_table = pd.read_csv('datasets/customer_info.csv')\n",
    "data_table"
   ]
  },
  {
   "cell_type": "code",
   "execution_count": null,
   "id": "17705e9d",
   "metadata": {},
   "outputs": [],
   "source": [
    "#### Store the phases and values for each phase in lists\n",
    "# These will be referenced frequently later on"
   ]
  },
  {
   "cell_type": "code",
   "execution_count": null,
   "id": "9579cfe9",
   "metadata": {},
   "outputs": [],
   "source": [
    "phases = data_table['Phases']\n",
    "\n",
    "values = data_table['Values']"
   ]
  },
  {
   "cell_type": "code",
   "execution_count": null,
   "id": "37106b5a",
   "metadata": {},
   "outputs": [],
   "source": [
    "#### Set the colors to use in the funnel chart\n",
    "# Define colors which will be used to represent the phases in the funnel chart"
   ]
  },
  {
   "cell_type": "code",
   "execution_count": null,
   "id": "2432c1d9",
   "metadata": {},
   "outputs": [],
   "source": [
    "colors = ['Pink', 'Blue', 'Yellow', 'Purple', 'Green']"
   ]
  },
  {
   "cell_type": "code",
   "execution_count": null,
   "id": "631ac8d4",
   "metadata": {},
   "outputs": [],
   "source": [
    "#### Store the number of phases in a variable and define the max funnel width\n",
    "# The number of phases will be used frequently, so we store it in a variable. The max width for the funnel will be 400 pixels.\n",
    "\n",
    "# A funnel section will be drawn using Plotly shapes, in the shape of a Rectangle or Isosceles Trapezoid depending on the value of the next phase. The phase having maximum value will have the width equal to the plot."
   ]
  },
  {
   "cell_type": "code",
   "execution_count": null,
   "id": "2c68e0aa",
   "metadata": {},
   "outputs": [],
   "source": [
    "num_phases = len(phases)\n",
    "\n",
    "plot_width = 400"
   ]
  },
  {
   "cell_type": "code",
   "execution_count": null,
   "id": "82ddaf3a",
   "metadata": {},
   "outputs": [],
   "source": [
    "#### Set the height for each funnel section and the gap in between\n",
    "# Each section will be 100 pixels high with a 10 pixel gap in between"
   ]
  },
  {
   "cell_type": "code",
   "execution_count": null,
   "id": "9c504c80",
   "metadata": {},
   "outputs": [],
   "source": [
    "section_height = 100\n",
    "\n",
    "section_gap = 10"
   ]
  },
  {
   "cell_type": "code",
   "execution_count": null,
   "id": "92d2c785",
   "metadata": {},
   "outputs": [],
   "source": [
    "#### Define the widths for each section in the funnel chart\n",
    "# The width of the section represents the value for each phase (the number of customers in that phase) the height is constant for each section, but the width varies.\n",
    "\n",
    "# Here, we set the width of each funnel section relative to the plot width"
   ]
  },
  {
   "cell_type": "code",
   "execution_count": null,
   "id": "0c909e8a",
   "metadata": {},
   "outputs": [],
   "source": [
    "unit_width = plot_width / max(values)\n",
    "\n",
    "phase_widths = [int(value * unit_width) for value in values]\n",
    "\n",
    "phase_widths"
   ]
  },
  {
   "cell_type": "code",
   "execution_count": null,
   "id": "71798380",
   "metadata": {},
   "outputs": [],
   "source": [
    "#### Get the plot height\n",
    "# The plot height depends on the number of sections - equal to the sum of the heights of each section plus the total gaps between the sections.\n",
    "\n",
    "# The number of gaps will be one less than the number of sections."
   ]
  },
  {
   "cell_type": "code",
   "execution_count": null,
   "id": "6b9366e7",
   "metadata": {},
   "outputs": [],
   "source": [
    "height = section_height * num_phases + section_gap * (num_phases - 1)"
   ]
  },
  {
   "cell_type": "code",
   "execution_count": null,
   "id": "d3802769",
   "metadata": {},
   "outputs": [],
   "source": [
    "#### Generate the points for the first section in the funnel\n",
    "# Consider the X axis centered at 0. The funnel chart for the first (top) section should have a width representing that phase at the top (phase_widths[0]) and should taper to the width of the next phase (phase_width[1]) at the bottom. "
   ]
  },
  {
   "cell_type": "code",
   "execution_count": null,
   "id": "a7e1f3ab",
   "metadata": {},
   "outputs": [],
   "source": [
    "# The height of the section is fixed (100), so the height ranges from the current height (height) at the top to (height - section_height) at the bottom.\n",
    "points = points = [phase_widths[0] / 2, height, phase_widths[1] / 2, height - section_height]"
   ]
  },
  {
   "cell_type": "code",
   "execution_count": null,
   "id": "518161f6",
   "metadata": {},
   "outputs": [],
   "source": [
    "#### Define the path in order to draw the section\n",
    "# We use the SVG path in order to plot this trapezium/trapezoid"
   ]
  },
  {
   "cell_type": "code",
   "execution_count": null,
   "id": "712dc78c",
   "metadata": {},
   "outputs": [],
   "source": [
    "path = 'M {0},{1} L {2},{3} L -{2},{3} L -{0},{1} Z'.format(*points)"
   ]
  },
  {
   "cell_type": "code",
   "execution_count": null,
   "id": "a2af1a28",
   "metadata": {},
   "outputs": [],
   "source": [
    "#### Define the shape using the SVG path"
   ]
  },
  {
   "cell_type": "code",
   "execution_count": null,
   "id": "2f5af5b0",
   "metadata": {},
   "outputs": [],
   "source": [
    "section = {'type': 'path',\n",
    "           'path': path,\n",
    "           'fillcolor': colors[0],\n",
    "           'line': {'color': colors[0]}\n",
    "          }"
   ]
  },
  {
   "cell_type": "code",
   "execution_count": null,
   "id": "48deb8b3",
   "metadata": {},
   "outputs": [],
   "source": [
    "#### To view this single section, we define a layout\n",
    "# This layout only contains our trapezoid"
   ]
  },
  {
   "cell_type": "code",
   "execution_count": null,
   "id": "82f20df4",
   "metadata": {},
   "outputs": [],
   "source": [
    "layout = go.Layout(shapes = [section])"
   ]
  },
  {
   "cell_type": "code",
   "execution_count": null,
   "id": "cc4b406a",
   "metadata": {},
   "outputs": [],
   "source": [
    "#### Plot the figure with only this one section\n",
    "# This is what a section in a funnel should look like. The top represents the value of this section and it tapers down where the bottome width represents the value of the next section.\n",
    "\n",
    "# It is just the final section which will be a rectangle"
   ]
  },
  {
   "cell_type": "code",
   "execution_count": null,
   "id": "1fb5daa2",
   "metadata": {},
   "outputs": [],
   "source": [
    "fig = go.Figure(data=[{}], \n",
    "                layout=layout)\n",
    "\n",
    "offline.iplot(fig)"
   ]
  },
  {
   "cell_type": "code",
   "execution_count": null,
   "id": "137b8e06",
   "metadata": {},
   "outputs": [],
   "source": [
    "#### Define lists which will be used to plot the funnel chart\n",
    "# We need lists for:\n",
    "# * Each shape we will plot which includes n-1 trapezoids and 1 rectangle at the bottom\n",
    "# * The path_list will hold the SVG path for each shape\n",
    "# * The section_label_heights will be used to set the heights of the text annotations for each section"
   ]
  },
  {
   "cell_type": "code",
   "execution_count": null,
   "id": "4858255e",
   "metadata": {},
   "outputs": [],
   "source": [
    "shapes = []\n",
    "path_list = []\n",
    "y_labels = []"
   ]
  },
  {
   "cell_type": "code",
   "execution_count": null,
   "id": "ae0e0aee",
   "metadata": {},
   "outputs": [],
   "source": [
    "#### Fill in the SVG Paths and section_label_heights for the sections\n",
    "# Since the last section will be a rectangle instead of a trapezoid, we need to check whether we are on the last section or not. The tasks we then perform are:\n",
    "# * Calculate the SVG path for the section and then append it to the path list\n",
    "# * Add the y coordinate for the text annotations for the section in y_labels\n",
    "# * Adjust the height to the top of the next section by decrementing its value by (section_height + gap)"
   ]
  },
  {
   "cell_type": "code",
   "execution_count": null,
   "id": "706214cc",
   "metadata": {},
   "outputs": [],
   "source": [
    "for i in range(num_phases):\n",
    "    \n",
    "        if (i == num_phases-1):\n",
    "                points = [phase_widths[i] / 2, height, phase_widths[i] / 2, height - section_height]\n",
    "        else:\n",
    "                points = [phase_widths[i] / 2, height, phase_widths[i+1] / 2, height - section_height]\n",
    "        \n",
    "        path = 'M {0},{1} L {2},{3} L -{2},{3} L -{0},{1} Z'.format(*points)\n",
    "        \n",
    "        print('\\nPoints for Phase %d = %s' %(i, points))\n",
    "        print('Path for Phase %d = %s' %(i, path))\n",
    "        \n",
    "        path_list.append(path)\n",
    "        \n",
    "        y_labels.append(height - (section_height / 2))\n",
    "        \n",
    "        height = height - (section_height + section_gap)"
   ]
  },
  {
   "cell_type": "code",
   "execution_count": null,
   "id": "21741e5c",
   "metadata": {},
   "outputs": [],
   "source": [
    "#### Generate a list of shapes for the funnel\n",
    "# This will contain all the section shapes which are set to a color from our colors list"
   ]
  },
  {
   "cell_type": "code",
   "execution_count": null,
   "id": "d0e08d46",
   "metadata": {},
   "outputs": [],
   "source": [
    "for i in range(num_phases):\n",
    "\n",
    "        shape = {'type': 'path',\n",
    "                 'path': path_list[i],\n",
    "                 'fillcolor': colors[i],\n",
    "                 'line': {'color': colors[i]}\n",
    "                }\n",
    "\n",
    "        shapes.append(shape)"
   ]
  },
  {
   "cell_type": "code",
   "execution_count": null,
   "id": "67f3816d",
   "metadata": {},
   "outputs": [],
   "source": [
    "# To draw the phase names and values, we are using the text mode in scatter plots. To style the plot, we are hiding the legend and tick labels, and removing the zeroline.\n",
    "#### Add the labels for each phase/section\n",
    "# We apply an offset for the x coordinate of the text annotation so that it does not overlap with the shapes. These annotations will appear on the left of the plot"
   ]
  },
  {
   "cell_type": "code",
   "execution_count": null,
   "id": "739b4659",
   "metadata": {},
   "outputs": [],
   "source": [
    "label_trace = go.Scatter(x = [-170]*num_phases,\n",
    "                         \n",
    "                         y = y_labels,\n",
    "                         \n",
    "                         mode = 'text',\n",
    "                         \n",
    "                         text = phases\n",
    "                        )"
   ]
  },
  {
   "cell_type": "code",
   "execution_count": null,
   "id": "96fa6364",
   "metadata": {},
   "outputs": [],
   "source": [
    "#### Enter the phase values\n",
    "# These will appear on the right of the funnel"
   ]
  },
  {
   "cell_type": "code",
   "execution_count": null,
   "id": "efe6a037",
   "metadata": {},
   "outputs": [],
   "source": [
    "value_trace = go.Scatter(x = [170]*num_phases, \n",
    "                         \n",
    "                         y = y_labels,\n",
    "                         \n",
    "                         mode = 'text',\n",
    "                         \n",
    "                         text = values\n",
    "                        )\n",
    "data = [label_trace, value_trace]"
   ]
  },
  {
   "cell_type": "code",
   "execution_count": null,
   "id": "6b3097d1",
   "metadata": {},
   "outputs": [],
   "source": [
    "#### Define the layout\n",
    "# We set the following attributes:\n",
    "# * A title for the chart along with its font size\n",
    "# * Assign the shapes for the plot\n",
    "# * Remove the tick labels and zero lines from the plot"
   ]
  },
  {
   "cell_type": "code",
   "execution_count": null,
   "id": "65f0c687",
   "metadata": {},
   "outputs": [],
   "source": [
    "# * Deactivate the legend (our traces are the text annotations, so we don't need a legend)\n",
    "layout = go.Layout(title = \"<b>Funnel Chart</b>\",\n",
    "                   titlefont = dict(size=20),\n",
    "                   \n",
    "                   shapes = shapes,\n",
    "                   \n",
    "                   showlegend = False,\n",
    "                   \n",
    "                   xaxis = dict(showticklabels = False,\n",
    "                              zeroline = False,\n",
    "                             ),\n",
    "                   \n",
    "                   yaxis = dict(showticklabels = False,\n",
    "                              zeroline = False\n",
    "                             )\n",
    "                  )\n",
    "fig = go.Figure(data=data, layout=layout)\n",
    "\n",
    "offline.iplot(fig)"
   ]
  }
 ],
 "metadata": {
  "kernelspec": {
   "display_name": "Python 3 (ipykernel)",
   "language": "python",
   "name": "python3"
  },
  "language_info": {
   "codemirror_mode": {
    "name": "ipython",
    "version": 3
   },
   "file_extension": ".py",
   "mimetype": "text/x-python",
   "name": "python",
   "nbconvert_exporter": "python",
   "pygments_lexer": "ipython3",
   "version": "3.7.13"
  }
 },
 "nbformat": 4,
 "nbformat_minor": 5
}
