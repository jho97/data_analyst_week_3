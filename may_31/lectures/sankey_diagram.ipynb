{
 "cells": [
  {
   "cell_type": "code",
   "execution_count": null,
   "id": "61e3b7c5",
   "metadata": {},
   "outputs": [],
   "source": [
    "import chart_studio.plotly as py\n",
    "import plotly.offline as offline\n",
    "import plotly.graph_objs as go\n",
    "import pandas as pd\n",
    "import numpy as np\n",
    "\n",
    "\n",
    "offline.init_notebook_mode(connected=True)"
   ]
  },
  {
   "cell_type": "code",
   "execution_count": null,
   "id": "aa1d373e",
   "metadata": {},
   "outputs": [],
   "source": [
    "## Sankey Diagrams\n",
    "# Sankey diagrams are a useful way to display movement between locations/nodes.\n",
    "\n",
    "# As an example, assume a person has set up a conference in his/her office and has attendees visiting from uptown, midtown and downtown in the city. They enter the office from either the front or rear lobby and then make their way to the conference room.\n",
    "#### Create a list for all the locations/nodes"
   ]
  },
  {
   "cell_type": "code",
   "execution_count": null,
   "id": "1fc6999d",
   "metadata": {},
   "outputs": [],
   "source": [
    "locations = ['Uptown', \n",
    "             'Midtown', \n",
    "             'Downtown', \n",
    "             'Front Lobby', \n",
    "             'Rear Lobby', \n",
    "             'Conference Room'\n",
    "            ]"
   ]
  },
  {
   "cell_type": "code",
   "execution_count": null,
   "id": "a26704f3",
   "metadata": {},
   "outputs": [],
   "source": [
    "#### Define the Sankey diagram\n",
    "# The nodes will be the locations we have defined above. The ordering of these nodes matters as they will be assigned an index which will be used to define the links in the Sankey diagram.\n",
    "\n",
    "# The source and target are effectively the nodes at either end of the link. The value represents the weight of the link. So taking the first index of each list, we get (0, 3, 2) - this means 2 people went from Uptown to the Front Lobby. "
   ]
  },
  {
   "cell_type": "code",
   "execution_count": null,
   "id": "ee78d953",
   "metadata": {},
   "outputs": [],
   "source": [
    "data = go.Sankey(node = dict(label = locations),\n",
    "                 \n",
    "                 link = dict(source = [0, 0, 1, 1, 2, 3, 4], \n",
    "                             target = [3, 4, 3, 4, 3, 5, 5], \n",
    "                             value =  [2, 2, 4, 1, 5, 9, 3]\n",
    "                            )\n",
    "                )"
   ]
  },
  {
   "cell_type": "code",
   "execution_count": null,
   "id": "e9779e2c",
   "metadata": {},
   "outputs": [],
   "source": [
    "layout =  dict(title = 'Basic Sankey Diagram',\n",
    "               font = dict(size = 12)\n",
    ")"
   ]
  },
  {
   "cell_type": "code",
   "execution_count": null,
   "id": "4c6ceb81",
   "metadata": {},
   "outputs": [],
   "source": [
    "#### Plot the diagram\n",
    "# We observe that 2 of the attendees seem to have lost their way from the front lobby to the conference room"
   ]
  },
  {
   "cell_type": "code",
   "execution_count": null,
   "id": "45e14837",
   "metadata": {},
   "outputs": [],
   "source": [
    "fig = dict(data=[data], \n",
    "           layout=layout)\n",
    "\n",
    "offline.iplot(fig)"
   ]
  },
  {
   "cell_type": "code",
   "execution_count": null,
   "id": "f102de74",
   "metadata": {},
   "outputs": [],
   "source": [
    "#### Using a real dataset\n",
    "# This dataset tracks the movement of refugees aiming to enter Australia from their countries of origin to the refugee camps in Manus and Nauru and beyond. \n",
    "\n",
    "# Download the dataset here: https://github.com/plotly/dash-app-datasets/blob/master/refugee-movement.csv"
   ]
  },
  {
   "cell_type": "code",
   "execution_count": null,
   "id": "d55e4a6b",
   "metadata": {},
   "outputs": [],
   "source": [
    "import pandas as pd\n",
    "\n",
    "data = pd.read_csv('datasets/refugee_movement.csv')"
   ]
  },
  {
   "cell_type": "code",
   "execution_count": null,
   "id": "d3d00be1",
   "metadata": {},
   "outputs": [],
   "source": [
    "# data\n",
    "#### Plot the Sankey diagram\n",
    "# Format the nodes:\n",
    "# * <b>pad</b> determines the amount of padding between the nodes\n",
    "# * <b>thickness</b> sets the width of the node\n",
    "\n",
    "# The 'Node, Label' field is meant to be a list of all the nodes contains several nan values in the dataframe. We drop those values when using it in our diagram"
   ]
  },
  {
   "cell_type": "code",
   "execution_count": null,
   "id": "fd26d9bc",
   "metadata": {},
   "outputs": [],
   "source": [
    "data_trace = go.Sankey(node = dict(pad = 10,\n",
    "                                   thickness = 30,\n",
    "                                   \n",
    "                                   label =  data['Node, Label'].dropna(),\n",
    "                                   \n",
    "                                   color = data['Color']),\n",
    "                       \n",
    "                       link = dict(source = data['Source'],\n",
    "                                   target = data['Target'],\n",
    "                                   value = data['Value'])\n",
    "                      )"
   ]
  },
  {
   "cell_type": "code",
   "execution_count": null,
   "id": "4ba6add2",
   "metadata": {},
   "outputs": [],
   "source": [
    "layout =  dict(title = \"Refugee movement through Manus and Nauru\")\n",
    "fig = dict(data=[data_trace], \n",
    "           layout=layout)\n",
    "\n",
    "offline.iplot(fig)"
   ]
  }
 ],
 "metadata": {
  "kernelspec": {
   "display_name": "Python 3 (ipykernel)",
   "language": "python",
   "name": "python3"
  },
  "language_info": {
   "codemirror_mode": {
    "name": "ipython",
    "version": 3
   },
   "file_extension": ".py",
   "mimetype": "text/x-python",
   "name": "python",
   "nbconvert_exporter": "python",
   "pygments_lexer": "ipython3",
   "version": "3.7.13"
  }
 },
 "nbformat": 4,
 "nbformat_minor": 5
}
