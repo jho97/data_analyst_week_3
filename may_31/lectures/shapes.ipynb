{
 "cells": [
  {
   "cell_type": "code",
   "execution_count": null,
   "id": "39d1a266",
   "metadata": {},
   "outputs": [],
   "source": [
    "import chart_studio.plotly as py\n",
    "import plotly.offline as offline\n",
    "import plotly.graph_objs as go\n",
    "import pandas as pd\n",
    "import numpy as np\n",
    "\n",
    "\n",
    "offline.init_notebook_mode(connected=True)"
   ]
  },
  {
   "cell_type": "code",
   "execution_count": null,
   "id": "9bcee402",
   "metadata": {},
   "outputs": [],
   "source": [
    "### Drawing shapes\n",
    "# Here we plot a rectangle using the following attributes:\n",
    "# * <b>type</b> sets the type of shape. Shapes can be rect, line, circle etc.\n",
    "# * <b>xref and yref</b> values determine whether absolute or relative (on a scale of 0 to 1) coordinates are used. Values of 'x' and 'y'</b> mean that absolute values of the x and y coordinates will be used\n",
    "# * <b>x0,y0,x1,y1</b> represent the left, bottom, right and top extents of the rectangle\n",
    "# * <b>line</b> will format the bounding line of the rectangle\n",
    "# * <b>fillcolor</b> determines the fill color for the rectangle"
   ]
  },
  {
   "cell_type": "code",
   "execution_count": null,
   "id": "f94698b0",
   "metadata": {},
   "outputs": [],
   "source": [
    "rect = {'type': 'rect',\n",
    "        'xref': 'x',\n",
    "        'yref': 'y',\n",
    "        'x0': 1,\n",
    "        'y0': 1,\n",
    "        'x1': 2,\n",
    "        'y1': 3,\n",
    "\n",
    "        'line': {'color': 'blue',\n",
    "                   'width': 3,\n",
    "                  },\n",
    "\n",
    "        'fillcolor': 'cyan'\n",
    "         }"
   ]
  },
  {
   "cell_type": "code",
   "execution_count": null,
   "id": "c81859d1",
   "metadata": {},
   "outputs": [],
   "source": [
    "#### Plot a circle using a relative scale\n",
    "# Setting the xref and yref to 'paper' means that we specify a positional value in the 0-1 range. Here 0 is the left or bottom of the axes, 1 is the right or top.\n",
    "\n",
    "# For a circle, the x0,y0,x1,y1 values represent the extent of the circle - which in our case is not as much a circle as a skewed circle as the width is 0.3 units and the height is 0.8 units. The centre of the circle will have x = (x1-x0)/2 and y = (y1-y0)/2"
   ]
  },
  {
   "cell_type": "code",
   "execution_count": null,
   "id": "63417591",
   "metadata": {},
   "outputs": [],
   "source": [
    "circ = {'type': 'circle',\n",
    "        'xref': 'paper',\n",
    "        'yref': 'paper',\n",
    "        'x0': 0.5,\n",
    "        'y0': 0,\n",
    "        'x1': 0.8,\n",
    "        'y1': 0.8,\n",
    "\n",
    "        'line': {'color': 'green',\n",
    "               'width': 3,\n",
    "              },\n",
    "\n",
    "        'fillcolor': 'honeydew',\n",
    "              }"
   ]
  },
  {
   "cell_type": "code",
   "execution_count": null,
   "id": "bb6c751f",
   "metadata": {},
   "outputs": [],
   "source": [
    "#### Define the layout\n",
    "# We set the range for the axes and add the shapes to the layout. Note that we have been using a dictionary format to define all these objects"
   ]
  },
  {
   "cell_type": "code",
   "execution_count": null,
   "id": "81f7fcd3",
   "metadata": {},
   "outputs": [],
   "source": [
    "layout = {'xaxis': {'range': [0, 5]},\n",
    "          \n",
    "          'yaxis': {'range': [0, 5]},\n",
    "          \n",
    "          'shapes': [rect, circ]}"
   ]
  },
  {
   "cell_type": "code",
   "execution_count": null,
   "id": "855c259e",
   "metadata": {},
   "outputs": [],
   "source": [
    "#### Add text annotations to the plot\n",
    "# We can use the Scatter object to define text annotations. Here, we use absolute coordinates which represent the center of the text annotations."
   ]
  },
  {
   "cell_type": "code",
   "execution_count": null,
   "id": "82fa5818",
   "metadata": {},
   "outputs": [],
   "source": [
    "trace = go.Scatter(x=[1.5, 3],\n",
    "                   y=[4, 4.5],\n",
    "                   \n",
    "                   text=['Using absolute coordinates',\n",
    "                         'Using relative coordinates'],\n",
    "                   \n",
    "                   mode='text',\n",
    ")\n",
    "\n",
    "data = [trace]"
   ]
  },
  {
   "cell_type": "code",
   "execution_count": null,
   "id": "91c1ab7f",
   "metadata": {},
   "outputs": [],
   "source": [
    "#### Plot the figure with the two shapes"
   ]
  },
  {
   "cell_type": "code",
   "execution_count": null,
   "id": "d6cbcb43",
   "metadata": {},
   "outputs": [],
   "source": [
    "fig = {\n",
    "    'data': data,\n",
    "    'layout': layout,\n",
    "}\n",
    "\n",
    "offline.iplot(fig)"
   ]
  },
  {
   "cell_type": "code",
   "execution_count": null,
   "id": "b990c95d",
   "metadata": {},
   "outputs": [],
   "source": [
    "### SVG Notation to draw shapes\n",
    "# We can use SVG notation to plot various shapes in Plotly\n",
    "#### Plot a triangle\n",
    "# * The shape will be of type 'path'\n",
    "# * The path contains the SVG Notation:\n",
    "#  * M will Move the cursor to the point listed after it\n",
    "#  * L will plot a line from the current cursor location to the point following it\n",
    "#  * Z will close the shape by drawing a line from the current cursor to the first point"
   ]
  },
  {
   "cell_type": "code",
   "execution_count": null,
   "id": "41f48c65",
   "metadata": {},
   "outputs": [],
   "source": [
    "triangle = {'type': 'path',\n",
    "            \n",
    "            'path': ' M 1,1 L 1,4 L 4,1 Z',\n",
    "            \n",
    "            'fillcolor': 'lightgrey',\n",
    "            'line': {'color': 'grey'}\n",
    "           }"
   ]
  },
  {
   "cell_type": "code",
   "execution_count": null,
   "id": "71f94ea0",
   "metadata": {},
   "outputs": [],
   "source": [
    "#### Plot a complex shape\n",
    "# Here, in addition to plotting lines we plot a quadratic bezier curve. While a line requires two points (start and end), a quadratic bezier curve requires 3 - start, control point, end. \n",
    "\n",
    "# The Quadratic bezier curve is denoted by Q and has two points following it - the control point and end point. The start point is where the cursor is."
   ]
  },
  {
   "cell_type": "code",
   "execution_count": null,
   "id": "ed8107ca",
   "metadata": {},
   "outputs": [],
   "source": [
    "odd_shape = {'type': 'path',\n",
    "            \n",
    "             'path': ' M 6,4 L 5,6 L 5,8 Q 6,10, 8,8 L 7,4 Z',\n",
    "            \n",
    "             'fillcolor': 'tan',\n",
    "             'line': {'color': 'chocolate'}\n",
    "           }"
   ]
  },
  {
   "cell_type": "code",
   "execution_count": null,
   "id": "40583eb7",
   "metadata": {},
   "outputs": [],
   "source": [
    "#### Define the layout\n",
    "# This includes both the shapes we just defined"
   ]
  },
  {
   "cell_type": "code",
   "execution_count": null,
   "id": "1b05592e",
   "metadata": {},
   "outputs": [],
   "source": [
    "layout = {'xaxis': {'range': [0, 10]},\n",
    "          \n",
    "          'yaxis': {'range': [0, 10]},\n",
    "          \n",
    "          'shapes': [triangle, odd_shape]}"
   ]
  },
  {
   "cell_type": "code",
   "execution_count": null,
   "id": "46c53458",
   "metadata": {},
   "outputs": [],
   "source": [
    "#### Plot the figure\n",
    "# Here, we leave the data empty"
   ]
  },
  {
   "cell_type": "code",
   "execution_count": null,
   "id": "f7a2f23b",
   "metadata": {},
   "outputs": [],
   "source": [
    "fig = {\n",
    "    'data': [{}],\n",
    "    'layout': layout,\n",
    "}\n",
    "\n",
    "offline.iplot(fig)"
   ]
  }
 ],
 "metadata": {
  "kernelspec": {
   "display_name": "Python 3 (ipykernel)",
   "language": "python",
   "name": "python3"
  },
  "language_info": {
   "codemirror_mode": {
    "name": "ipython",
    "version": 3
   },
   "file_extension": ".py",
   "mimetype": "text/x-python",
   "name": "python",
   "nbconvert_exporter": "python",
   "pygments_lexer": "ipython3",
   "version": "3.7.13"
  }
 },
 "nbformat": 4,
 "nbformat_minor": 5
}
