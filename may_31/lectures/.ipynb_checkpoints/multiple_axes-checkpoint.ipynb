{
 "cells": [
  {
   "cell_type": "code",
   "execution_count": null,
   "id": "2b98c256",
   "metadata": {},
   "outputs": [],
   "source": [
    "import chart_studio.plotly as py\n",
    "import plotly.offline as offline\n",
    "import plotly.graph_objs as go\n",
    "import pandas as pd\n",
    "import numpy as np\n",
    "\n",
    "\n",
    "offline.init_notebook_mode(connected=True)"
   ]
  },
  {
   "cell_type": "code",
   "execution_count": null,
   "id": "68c83096",
   "metadata": {},
   "outputs": [],
   "source": [
    "## Two Y-Axes\n",
    "# It is often useful to view two different plots - which have the same X axis values, but different Y values - together. In such instances, we can use two Y axes to visualize the two plots.\n",
    "#### Generate the first trace"
   ]
  },
  {
   "cell_type": "code",
   "execution_count": null,
   "id": "e6b06631",
   "metadata": {},
   "outputs": [],
   "source": [
    "trace0 = go.Scatter(x = [1, 2, 3], \n",
    "                    y = [10,20,30],\n",
    "                    \n",
    "                    name = 'yaxis data'\n",
    "                   )"
   ]
  },
  {
   "cell_type": "code",
   "execution_count": null,
   "id": "a62d73fd",
   "metadata": {},
   "outputs": [],
   "source": [
    "#### Create a second trace and map to a second Y axis\n",
    "# When we set yaxis to 'y2' (the default is 'y'), it means that this axis is a associated with the <b>yaxis2</b> attribute in the layout definition (which we will see shortly)"
   ]
  },
  {
   "cell_type": "code",
   "execution_count": null,
   "id": "f9582874",
   "metadata": {},
   "outputs": [],
   "source": [
    "trace1 = go.Scatter(x = [5, 6, 7],\n",
    "                    y = [4, 5, 8],\n",
    "                    \n",
    "                    name = 'yaxis2 data',\n",
    "                    \n",
    "                    yaxis = 'y2'\n",
    ")"
   ]
  },
  {
   "cell_type": "code",
   "execution_count": null,
   "id": "2a4baa05",
   "metadata": {},
   "outputs": [],
   "source": [
    "#### The data for our plot includes the lines from the two traces"
   ]
  },
  {
   "cell_type": "code",
   "execution_count": null,
   "id": "7a1075ae",
   "metadata": {},
   "outputs": [],
   "source": [
    "data = [trace0, trace1]"
   ]
  },
  {
   "cell_type": "code",
   "execution_count": null,
   "id": "600ae7b6",
   "metadata": {},
   "outputs": [],
   "source": [
    "#### Define the layout which includes the second Y axis\n",
    "# <b>yaxis2</b> is set to be an overlay on the Y axis which means it will become a second Y axis. We set its position to be on the right side of the axes. \n",
    "\n",
    "# Note that we can overlay the X axis as well and place axes on the left, right, top and bottom depending on which axis is being overlayed."
   ]
  },
  {
   "cell_type": "code",
   "execution_count": null,
   "id": "4beb3f3d",
   "metadata": {},
   "outputs": [],
   "source": [
    "layout = go.Layout(title = 'Double Y Axis Example',\n",
    "                   yaxis = dict(title = 'Default Y Axis'),\n",
    "                   \n",
    "                   yaxis2 = dict(title = 'Second Y Axis',\n",
    "                                 titlefont = dict(color='orange'),\n",
    "                               \n",
    "                                 overlaying = 'y',\n",
    "                                 side = 'right'\n",
    "                              )\n",
    "                  )"
   ]
  },
  {
   "cell_type": "code",
   "execution_count": null,
   "id": "e1f9c76d",
   "metadata": {},
   "outputs": [],
   "source": [
    "#### Plot the figure with the two Y axes"
   ]
  },
  {
   "cell_type": "code",
   "execution_count": null,
   "id": "a7c490a1",
   "metadata": {},
   "outputs": [],
   "source": [
    "fig = go.Figure(data=data, \n",
    "                layout=layout)\n",
    "\n",
    "offline.iplot(fig)"
   ]
  },
  {
   "cell_type": "code",
   "execution_count": null,
   "id": "de17369b",
   "metadata": {},
   "outputs": [],
   "source": [
    "#### We can have more than two Y axes\n",
    "# We generate a third trace and map it to yaxis3 in the layout definition by setting its yaxis value to 'y3'.\n",
    "\n",
    "# We redefine our data"
   ]
  },
  {
   "cell_type": "code",
   "execution_count": null,
   "id": "97e2c308",
   "metadata": {},
   "outputs": [],
   "source": [
    "trace2 = go.Scatter(x = [8, 9, 12],\n",
    "                    y = [120, 140, 150],\n",
    "                    \n",
    "                    name = 'yaxis3 data',\n",
    "                    \n",
    "    "
   ]
  },
  {
   "cell_type": "code",
   "execution_count": null,
   "id": "253c339d",
   "metadata": {},
   "outputs": [],
   "source": [
    "#### We can have more than two Y axes\n",
    "# We generate a third trace and map it to yaxis3 in the layout definition by setting its yaxis value to 'y3'.\n",
    "\n",
    "# We redefine our data\n",
    "trace2 = go.Scatter(x = [8, 9, 12],\n",
    "                    y = [120, 140, 150],\n",
    "                    \n",
    "                    name = 'yaxis3 data',\n",
    "                    \n",
    "                    yaxis = 'y3'\n",
    ")"
   ]
  },
  {
   "cell_type": "code",
   "execution_count": null,
   "id": "4578623b",
   "metadata": {},
   "outputs": [],
   "source": [
    "trace2 = go.Scatter(x = [8, 9, 12],\n",
    "                    y = [120, 140, 150],\n",
    "                    \n",
    "                    name = 'yaxis3 data',\n",
    "                    \n",
    "                    yaxis = 'y3'\n",
    ")"
   ]
  },
  {
   "cell_type": "code",
   "execution_count": null,
   "id": "922e56e4",
   "metadata": {},
   "outputs": [],
   "source": [
    "#### Plot the figure with the two Y axes"
   ]
  },
  {
   "cell_type": "code",
   "execution_count": null,
   "id": "0a8363e3",
   "metadata": {},
   "outputs": [],
   "source": [
    "fig = go.Figure(data=data, \n",
    "                layout=layout)\n",
    "\n",
    "offline.iplot(fig)"
   ]
  },
  {
   "cell_type": "code",
   "execution_count": null,
   "id": "42ca72ba",
   "metadata": {},
   "outputs": [],
   "source": [
    "#### We can have more than two Y axes\n",
    "# We generate a third trace and map it to yaxis3 in the layout definition by setting its yaxis value to 'y3'.\n",
    "\n",
    "# We redefine our data"
   ]
  },
  {
   "cell_type": "code",
   "execution_count": null,
   "id": "7a7e0849",
   "metadata": {},
   "outputs": [],
   "source": [
    "trace2 = go.Scatter(x = [8, 9, 12],\n",
    "                    y = [120, 140, 150],\n",
    "                    \n",
    "                    name = 'yaxis3 data',\n",
    "                    \n",
    "                    yaxis = 'y3'\n",
    ")"
   ]
  },
  {
   "cell_type": "code",
   "execution_count": null,
   "id": "be98d5a7",
   "metadata": {},
   "outputs": [],
   "source": [
    "#### Redefine our data to include the 3 traces"
   ]
  },
  {
   "cell_type": "code",
   "execution_count": null,
   "id": "651bd9aa",
   "metadata": {},
   "outputs": [],
   "source": [
    "data = [trace0, trace1, trace2]"
   ]
  },
  {
   "cell_type": "code",
   "execution_count": null,
   "id": "2c8227d3",
   "metadata": {},
   "outputs": [],
   "source": [
    "#### Define the new layout to include the 3rd Y axis\n",
    "# There is a minor difference between this and the addition of the second axis. This is because if we place the 3rd axis on the right of the plot, as with the 2nd axis, they will overlap. \n",
    "\n",
    "# We set the value of the <b>anchor</b> attribute for the 3rd axis to 'free'. This allows us to specify the position of the axis on a relative scale along the opposite axis (i.e. a Y axis's posion on the X axis). Here we place this 3rd axis 90% of the way to the right along the X axis."
   ]
  },
  {
   "cell_type": "code",
   "execution_count": null,
   "id": "d4b87766",
   "metadata": {},
   "outputs": [],
   "source": [
    "layout = go.Layout(title = 'Three Y Axes',\n",
    "                   yaxis = dict(title='Default Y Axis'),\n",
    "                   \n",
    "                   yaxis2 = dict(title='Second Y Axis',\n",
    "                                 titlefont=dict(color='orange'),\n",
    "                               \n",
    "                                 overlaying='y',\n",
    "                                 side='right'\n",
    "                              ),\n",
    "                   \n",
    "                   yaxis3 = dict(title='Third Y Axis',\n",
    "                                 titlefont=dict(color='green'),\n",
    "                               \n",
    "                                 overlaying='y',\n",
    "                                 side='right',\n",
    "                                 \n",
    "                                 anchor = 'free',\n",
    "                                 position = 0.9\n",
    "                              )\n",
    "                  )\n",
    "fig = go.Figure(data=data, \n",
    "                layout=layout)\n",
    "\n",
    "offline.iplot(fig)"
   ]
  },
  {
   "cell_type": "code",
   "execution_count": null,
   "id": "8dcfd648",
   "metadata": {},
   "outputs": [],
   "source": [
    "## Avocado dataset\n",
    "# This dataset contains the production and price (per piece) of various kinds of avocados from different regions in the United States between Jan 2014 and March 2018.\n",
    "\n",
    "# Download the dataset here: https://www.kaggle.com/neuromusic/avocado-prices"
   ]
  },
  {
   "cell_type": "code",
   "execution_count": null,
   "id": "cd79ffc1",
   "metadata": {},
   "outputs": [],
   "source": [
    "data = pd.read_csv('datasets/avocado.csv')\n",
    "data.head()"
   ]
  },
  {
   "cell_type": "code",
   "execution_count": null,
   "id": "14aa1b52",
   "metadata": {},
   "outputs": [],
   "source": [
    "#### We restrict the data under consideration\n",
    "# To get unique dates in our series, we restrict our data to organic avocados from California"
   ]
  },
  {
   "cell_type": "code",
   "execution_count": null,
   "id": "fab8a2ea",
   "metadata": {},
   "outputs": [],
   "source": [
    "data_ca = data.loc[(data['region'] == 'California') & (data['type'] == 'organic')]"
   ]
  },
  {
   "cell_type": "code",
   "execution_count": null,
   "id": "e5bd8727",
   "metadata": {},
   "outputs": [],
   "source": [
    "#### We sort the data by date\n",
    "# This is generate a meaningful time series"
   ]
  },
  {
   "cell_type": "code",
   "execution_count": null,
   "id": "d9c20827",
   "metadata": {},
   "outputs": [],
   "source": [
    "data_ca = data_ca.sort_values(by = ['Date'])\n",
    "data_ca.head()"
   ]
  },
  {
   "cell_type": "code",
   "execution_count": null,
   "id": "e6027409",
   "metadata": {},
   "outputs": [],
   "source": [
    "#### Generate a trace for the avocado average price"
   ]
  },
  {
   "cell_type": "code",
   "execution_count": null,
   "id": "1893840d",
   "metadata": {},
   "outputs": [],
   "source": [
    "priceTrace = go.Scatter(x = data_ca['Date'],\n",
    "                        y = data_ca['AveragePrice'],\n",
    "                    \n",
    "                        name = 'Average Price'\n",
    ")"
   ]
  },
  {
   "cell_type": "code",
   "execution_count": null,
   "id": "4850c800",
   "metadata": {},
   "outputs": [],
   "source": [
    "#### Create a trace for the avocado production\n",
    "# This will be represented by the 2nd Y axis"
   ]
  },
  {
   "cell_type": "code",
   "execution_count": null,
   "id": "a863c161",
   "metadata": {},
   "outputs": [],
   "source": [
    "volumeTrace = go.Scatter(x = data_ca['Date'],\n",
    "                         y = data_ca['Total Volume'],\n",
    "                    \n",
    "                         name = 'Total Volume',\n",
    "                         yaxis = 'y2'\n",
    ")"
   ]
  },
  {
   "cell_type": "code",
   "execution_count": null,
   "id": "7106b506",
   "metadata": {},
   "outputs": [],
   "source": [
    "#### The data for the plot includes both the price and volume traces"
   ]
  },
  {
   "cell_type": "code",
   "execution_count": null,
   "id": "69403858",
   "metadata": {},
   "outputs": [],
   "source": [
    "avocadoData = [priceTrace, volumeTrace]"
   ]
  },
  {
   "cell_type": "code",
   "execution_count": null,
   "id": "fadb4f27",
   "metadata": {},
   "outputs": [],
   "source": [
    "#### Define the layout\n",
    "# The second Y axis will be on the right, and its title text is in orange"
   ]
  },
  {
   "cell_type": "code",
   "execution_count": null,
   "id": "9cc44ee0",
   "metadata": {},
   "outputs": [],
   "source": [
    "avocadoLayout = go.Layout(title = 'Avocado Production and Prices',\n",
    "                          yaxis = dict(title='Average Price'),\n",
    "                   \n",
    "                          yaxis2 = dict(title = 'Number of Avocados sold',\n",
    "                                        titlefont = dict(color = 'orange'),\n",
    "\n",
    "                                        overlaying = 'y',\n",
    "                                        side = 'right'\n",
    "                                )\n",
    "    \n",
    ")"
   ]
  },
  {
   "cell_type": "code",
   "execution_count": null,
   "id": "e064b285",
   "metadata": {},
   "outputs": [],
   "source": [
    "#### Plot the figure\n",
    "# Notice how there is an inverse relationship between produced quantity and average price per avocado"
   ]
  },
  {
   "cell_type": "code",
   "execution_count": null,
   "id": "c8dfcedb",
   "metadata": {},
   "outputs": [],
   "source": [
    "fig = go.Figure(data=avocadoData, \n",
    "                layout=avocadoLayout)\n",
    "\n",
    "offline.iplot(fig)"
   ]
  }
 ],
 "metadata": {
  "kernelspec": {
   "display_name": "Python 3 (ipykernel)",
   "language": "python",
   "name": "python3"
  },
  "language_info": {
   "codemirror_mode": {
    "name": "ipython",
    "version": 3
   },
   "file_extension": ".py",
   "mimetype": "text/x-python",
   "name": "python",
   "nbconvert_exporter": "python",
   "pygments_lexer": "ipython3",
   "version": "3.7.13"
  }
 },
 "nbformat": 4,
 "nbformat_minor": 5
}
