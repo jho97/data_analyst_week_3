{
 "cells": [
  {
   "cell_type": "code",
   "execution_count": null,
   "id": "9e67fda8",
   "metadata": {},
   "outputs": [],
   "source": [
    "import chart_studio.plotly as py\n",
    "import plotly.offline as offline\n",
    "import plotly.graph_objs as go\n",
    "import pandas as pd\n",
    "import numpy as np\n",
    "\n",
    "\n",
    "offline.init_notebook_mode(connected=True)"
   ]
  },
  {
   "cell_type": "code",
   "execution_count": null,
   "id": "095890b9",
   "metadata": {},
   "outputs": [],
   "source": [
    "# A Gantt chart provides a graphical illustration of a schedule that helps to plan, coordinate, and track specific tasks in a project.\n",
    "#### Import Plotly's figure factory\n",
    "# This is the package which contains the Gantt chart"
   ]
  },
  {
   "cell_type": "code",
   "execution_count": null,
   "id": "750ce091",
   "metadata": {},
   "outputs": [],
   "source": [
    "import plotly.figure_factory as ff"
   ]
  },
  {
   "cell_type": "code",
   "execution_count": null,
   "id": "c6cf616e",
   "metadata": {},
   "outputs": [],
   "source": [
    "#### Define a simple schedule\n",
    "# The fields which are required to plot a Gantt Chart are:\n",
    "# * <b>Task</b>, which is a string\n",
    "# * <b>Start</b> which is the task's start time expressed in some date format\n",
    "# * <b>Finish</b> which is the end time for the task, also in some date format\n",
    "\n",
    "# Note that the times for the tasks can overlap"
   ]
  },
  {
   "cell_type": "code",
   "execution_count": null,
   "id": "c462828e",
   "metadata": {},
   "outputs": [],
   "source": [
    "tasks = [dict(Task='Task 1', \n",
    "              Start='2018-01-01', \n",
    "              Finish='2018-02-28'),\n",
    "         \n",
    "         dict(Task='Task 2', \n",
    "              Start='2018-03-05', \n",
    "              Finish='2018-05-15'),\n",
    "         \n",
    "         dict(Task='Task 3', \n",
    "              Start='2018-05-01', \n",
    "              Finish='2018-06-30')]"
   ]
  },
  {
   "cell_type": "code",
   "execution_count": null,
   "id": "3942e247",
   "metadata": {},
   "outputs": [],
   "source": [
    "#### Plot the Gantt chart\n",
    "# Use the figure factory to generate a Gantt Chart figure with our list of tasks"
   ]
  },
  {
   "cell_type": "code",
   "execution_count": null,
   "id": "80c59de2",
   "metadata": {},
   "outputs": [],
   "source": [
    "fig = ff.create_gantt(tasks)\n",
    "\n",
    "offline.iplot(fig)"
   ]
  },
  {
   "cell_type": "code",
   "execution_count": null,
   "id": "deee7c2d",
   "metadata": {},
   "outputs": [],
   "source": [
    "### Using Color Scales\n",
    "# Color scales can be used in Gantt charts to represent information\n",
    "### Numeric data represented with a color scale\n",
    "# By using a color scale, we can portray how much of a task is completed"
   ]
  },
  {
   "cell_type": "code",
   "execution_count": null,
   "id": "ced9ba6b",
   "metadata": {},
   "outputs": [],
   "source": [
    "tasks = [dict(Task='Task 1', \n",
    "              Start='2018-01-01', \n",
    "              Finish='2018-02-28',\n",
    "              Complete=100),\n",
    "         \n",
    "         dict(Task='Task 2', \n",
    "              Start='2018-03-05', \n",
    "              Finish='2018-04-15',\n",
    "              Complete=60),\n",
    "         \n",
    "         dict(Task='Task 3', \n",
    "              Start='2018-04-15', \n",
    "              Finish='2018-06-30',\n",
    "              Complete=20)]"
   ]
  },
  {
   "cell_type": "code",
   "execution_count": null,
   "id": "be58bfc2",
   "metadata": {},
   "outputs": [],
   "source": [
    "#### Define the Gantt chart\n",
    "# * The <b>colors</b> attribute takes in the name of a built-in color scale or a list of RGB or Hexademical numbers\n",
    "# * <b>index_col</b> is used to specify which field should be represented using the color scale\n",
    "# * <b>show_colorbar</b> can be set to view the color scale as a reference "
   ]
  },
  {
   "cell_type": "code",
   "execution_count": null,
   "id": "0a694c79",
   "metadata": {},
   "outputs": [],
   "source": [
    "fig = ff.create_gantt(tasks, \n",
    "                      title = 'Gantt Chart with a color scale',\n",
    "                      \n",
    "                      colors = 'Picnic', \n",
    "                      index_col = 'Complete', \n",
    "                      show_colorbar = True)\n",
    "\n",
    "offline.iplot(fig)"
   ]
  },
  {
   "cell_type": "code",
   "execution_count": null,
   "id": "cabe5c6f",
   "metadata": {},
   "outputs": [],
   "source": [
    "### Color Scales to represent string categories\n",
    "#### Import a CSV file containing a schedule\n",
    "# The following is a schedule for a school going kid depicting his/her activities for 1-July-2018 "
   ]
  },
  {
   "cell_type": "code",
   "execution_count": null,
   "id": "498245fb",
   "metadata": {},
   "outputs": [],
   "source": [
    "schedule = pd.read_csv('./datasets/schedule.csv')\n",
    "schedule"
   ]
  },
  {
   "cell_type": "code",
   "execution_count": null,
   "id": "01f9ee97",
   "metadata": {},
   "outputs": [],
   "source": [
    "#### Define a color map\n",
    "# This needs to contain colors specified in either RGB or Hexadecimal format (named colors will not work in a Gantt Chart). The list can contain a mix of both RGB and Hex colors.\n",
    "\n",
    "# Here, we map the Category names to the color we want it to be portrayed by."
   ]
  },
  {
   "cell_type": "code",
   "execution_count": null,
   "id": "e6e642c2",
   "metadata": {},
   "outputs": [],
   "source": [
    "color_dict = dict(Rest = 'rgb(46, 137, 205)',\n",
    "                  Eat = 'rgb(114, 44, 121)',\n",
    "                  Homework = 'rgb(198, 47, 105)',\n",
    "                  \n",
    "                  Play = '#BD8FD7',\n",
    "                  Music = '#78F7DE')"
   ]
  },
  {
   "cell_type": "code",
   "execution_count": null,
   "id": "259d353b",
   "metadata": {},
   "outputs": [],
   "source": [
    "#### Draw the Gantt Chart\n",
    "# We cannot use a named color scale to map String values, so we pass in our colors dictionary to be used to assign colors to the different values of 'Category' in our dataset.\n",
    "\n",
    "# <b>bar_width</b> sets the width (in this portrayal, the height) of each bar. A bar_width of 0.5 equals the distance between two grid lines on the Y axis. "
   ]
  },
  {
   "cell_type": "code",
   "execution_count": null,
   "id": "702bf08d",
   "metadata": {},
   "outputs": [],
   "source": [
    "fig = ff.create_gantt(schedule,\n",
    "                      title='Schedule for 1-July-2018',\n",
    "                      \n",
    "                      colors=color_dict, \n",
    "                      index_col='Category',\n",
    "                      show_colorbar=True,\n",
    "                      \n",
    "                      bar_width=0.5,\n",
    "                      \n",
    "                      showgrid_x=True, \n",
    "                      showgrid_y=True)\n",
    "\n",
    "offline.iplot(fig)"
   ]
  },
  {
   "cell_type": "code",
   "execution_count": null,
   "id": "a5894835",
   "metadata": {},
   "outputs": [],
   "source": [
    "#### Alternatively, we use a color list\n",
    "# Here, the ordering of colors will be mapped to the list of categories in alphabetical order."
   ]
  },
  {
   "cell_type": "code",
   "execution_count": null,
   "id": "5b72dd98",
   "metadata": {},
   "outputs": [],
   "source": [
    "color_list = ['#BD8FD7', \n",
    "              '#78F7DE', \n",
    "              'rgb(198, 47, 105)', \n",
    "              'rgb(114, 44, 121)', \n",
    "              'rgb(46, 137, 205)']"
   ]
  },
  {
   "cell_type": "code",
   "execution_count": null,
   "id": "6ac8b9f2",
   "metadata": {},
   "outputs": [],
   "source": [
    "fig = ff.create_gantt(schedule,\n",
    "                      title='Schedule for 1-July-2018',\n",
    "                      \n",
    "                      colors=color_list, \n",
    "                      index_col='Category',\n",
    "                      show_colorbar=True,\n",
    "                      \n",
    "                      bar_width=0.5, \n",
    "                      showgrid_x=True, \n",
    "                      showgrid_y=True)\n",
    "\n",
    "offline.iplot(fig)"
   ]
  },
  {
   "cell_type": "code",
   "execution_count": null,
   "id": "3045b37a",
   "metadata": {},
   "outputs": [],
   "source": [
    "#### Grouping tasks\n",
    "# In our schedule, there are 3 occurences of Music which have so far appeared as separate tasks. We use the group_tasks attribute so that they all appear in the same row on our plot."
   ]
  },
  {
   "cell_type": "code",
   "execution_count": null,
   "id": "fc52addb",
   "metadata": {},
   "outputs": [],
   "source": [
    "fig = ff.create_gantt(schedule,\n",
    "                      title='Schedule for 1-July-2018',\n",
    "                      \n",
    "                      colors=color_list, \n",
    "                      index_col='Category',\n",
    "                      show_colorbar=True,\n",
    "                      \n",
    "                      bar_width=0.5, \n",
    "                      showgrid_x=True, \n",
    "                      showgrid_y=True,\n",
    "                      \n",
    "                      group_tasks=True)\n",
    "\n",
    "offline.iplot(fig)"
   ]
  }
 ],
 "metadata": {
  "kernelspec": {
   "display_name": "Python 3 (ipykernel)",
   "language": "python",
   "name": "python3"
  },
  "language_info": {
   "codemirror_mode": {
    "name": "ipython",
    "version": 3
   },
   "file_extension": ".py",
   "mimetype": "text/x-python",
   "name": "python",
   "nbconvert_exporter": "python",
   "pygments_lexer": "ipython3",
   "version": "3.7.13"
  }
 },
 "nbformat": 4,
 "nbformat_minor": 5
}
