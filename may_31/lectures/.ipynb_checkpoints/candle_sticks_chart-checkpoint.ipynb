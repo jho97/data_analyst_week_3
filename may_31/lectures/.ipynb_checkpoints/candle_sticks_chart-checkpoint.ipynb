{
 "cells": [
  {
   "cell_type": "code",
   "execution_count": null,
   "id": "05d0be6b",
   "metadata": {},
   "outputs": [],
   "source": [
    "import chart_studio.plotly as py\n",
    "import plotly.offline as offline\n",
    "import plotly.graph_objs as go\n",
    "import pandas as pd\n",
    "import numpy as np\n",
    "\n",
    "\n",
    "offline.init_notebook_mode(connected=True)"
   ]
  },
  {
   "cell_type": "code",
   "execution_count": null,
   "id": "bf4a038e",
   "metadata": {},
   "outputs": [],
   "source": [
    "pd.core.common.is_list_like = pd.api.types.is_list_like\n",
    "import pandas_datareader as web\n",
    "\n",
    "from datetime import datetime"
   ]
  },
  {
   "cell_type": "code",
   "execution_count": null,
   "id": "ef07f2a6",
   "metadata": {},
   "outputs": [],
   "source": [
    "### Candlestick with pandas on Ford Motors stock\n",
    "# A candlestick chart (also called Japanese candlestick chart) is a style of financial chart used to describe price movements of a security, derivative, or currency.\n",
    "#### Gather stock data\n",
    "# First collect a few days of OHLC (Open High Low Close) data for the General Motors stock from Morningstar."
   ]
  },
  {
   "cell_type": "code",
   "execution_count": null,
   "id": "b06615a5",
   "metadata": {},
   "outputs": [],
   "source": [
    "ford = web.DataReader('F', 'morningstar',\n",
    "                        \n",
    "                    datetime(2018, 5, 1),\n",
    "                    datetime(2018, 5, 10)).reset_index()"
   ]
  },
  {
   "cell_type": "code",
   "execution_count": null,
   "id": "b20ea768",
   "metadata": {},
   "outputs": [],
   "source": [
    "#### Define the candlestick graph\n",
    "# The fields which are passed to the chart include the OHLC fields along with the series which is represented on the X axis (typically the date)"
   ]
  },
  {
   "cell_type": "code",
   "execution_count": null,
   "id": "457df132",
   "metadata": {},
   "outputs": [],
   "source": [
    "trace = go.Candlestick(x = ford.Date,\n",
    "                       \n",
    "                       open = ford.Open,\n",
    "                       \n",
    "                       high = ford.High,\n",
    "                       \n",
    "                       low = ford.Low,\n",
    "                       \n",
    "                       close = ford.Close)"
   ]
  },
  {
   "cell_type": "code",
   "execution_count": null,
   "id": "b27d7717",
   "metadata": {},
   "outputs": [],
   "source": [
    "#### Plot the candlesticks\n",
    "# The plot has the following components:\n",
    "# * A bounding box whose y values represent the range between the stock's open and close prices \n",
    "# * A green box represents a higher close value than open (i.e. stock price went up that day)\n",
    "# * The box is red when the stock closed lower\n",
    "# * The vertical lines (bars above and below the box) show the range of intra-day high and low prices\n",
    "# * The vertical lines are capped at the top by horizontal lines called whiserks. By default, the width of the whisker is 0 which is why we don't see them\n",
    "\n",
    "# Notice that a slider appears by default along the X axis"
   ]
  },
  {
   "cell_type": "code",
   "execution_count": null,
   "id": "f4eefd56",
   "metadata": {},
   "outputs": [],
   "source": [
    "data = [trace]\n",
    "\n",
    "offline.iplot(data)"
   ]
  },
  {
   "cell_type": "code",
   "execution_count": null,
   "id": "4d27e7ba",
   "metadata": {},
   "outputs": [],
   "source": [
    "### Customizing the candlesticks\n",
    "# The following customizations can be added to candlesticks:\n",
    "# * Format the fillcolor of the bounding boxes which come in two forms:\n",
    "#  * increasing represents the boxes when close > open (a green shade by default)\n",
    "#  * decreasing represents the boxes when close < open (a red shade by default)\n",
    "# * Format the lines of the bounding boxes and whiskers\n",
    "# * Set the whisker width (as a proportion of box size. Default is 0, max is 1 which is equal to box size)"
   ]
  },
  {
   "cell_type": "code",
   "execution_count": null,
   "id": "5a4d256d",
   "metadata": {},
   "outputs": [],
   "source": [
    "trace = go.Candlestick(x = ford.Date,\n",
    "                       open = ford.Open,\n",
    "                       high = ford.High,\n",
    "                       low = ford.Low,\n",
    "                       close = ford.Close, \n",
    "                       \n",
    "                       increasing = dict(fillcolor = 'greenyellow', \n",
    "                                         line = dict(color = 'green', \n",
    "                                                     width = 3\n",
    "                                                    )\n",
    "                                        ),\n",
    "                       decreasing = dict(fillcolor = 'lightcoral'),\n",
    "                       \n",
    "                       whiskerwidth = 0.2\n",
    "                      )\n",
    "data = [trace]"
   ]
  },
  {
   "cell_type": "code",
   "execution_count": null,
   "id": "1af1504d",
   "metadata": {},
   "outputs": [],
   "source": [
    "fig = dict(data=data)\n",
    "\n",
    "offline.iplot(fig)"
   ]
  }
 ],
 "metadata": {
  "kernelspec": {
   "display_name": "Python 3 (ipykernel)",
   "language": "python",
   "name": "python3"
  },
  "language_info": {
   "codemirror_mode": {
    "name": "ipython",
    "version": 3
   },
   "file_extension": ".py",
   "mimetype": "text/x-python",
   "name": "python",
   "nbconvert_exporter": "python",
   "pygments_lexer": "ipython3",
   "version": "3.7.13"
  }
 },
 "nbformat": 4,
 "nbformat_minor": 5
}
