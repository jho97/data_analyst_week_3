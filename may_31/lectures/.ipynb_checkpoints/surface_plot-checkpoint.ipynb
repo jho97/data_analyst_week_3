{
 "cells": [
  {
   "cell_type": "code",
   "execution_count": null,
   "id": "752902ef",
   "metadata": {},
   "outputs": [],
   "source": [
    "import chart_studio.plotly as py\n",
    "import plotly.offline as offline\n",
    "import plotly.graph_objs as go\n",
    "import pandas as pd\n",
    "import numpy as np\n",
    "\n",
    "\n",
    "offline.init_notebook_mode(connected=True)"
   ]
  },
  {
   "cell_type": "code",
   "execution_count": null,
   "id": "00f6c642",
   "metadata": {},
   "outputs": [],
   "source": [
    "## Topographical 3D Surface Plot\n",
    "#Given a the elevation for a set of x,y coordinates, we can draw a surface plot to represent the elevations in the landscape. This is useful to map out geological features given a set of elevations along with the latitudes and longitudes for instance.\n",
    "#### Define a matrix of z values \n",
    "#Assume these z values represent the elevations while the indices of the 2D list represent the x,y coordinates."
   ]
  },
  {
   "cell_type": "code",
   "execution_count": null,
   "id": "d020995b",
   "metadata": {},
   "outputs": [],
   "source": [
    "z = [[16, 18, 17, 16],\n",
    "     [15, 17, 17, 16],\n",
    "     [12, 14, 12, 14]]"
   ]
  },
  {
   "cell_type": "code",
   "execution_count": null,
   "id": "b3c235cf",
   "metadata": {},
   "outputs": [],
   "source": [
    "#### Generate a surface plot\n",
    "#We simply pass the list of z values while the x and y values are inferred (corresponding to the shape of the z list)"
   ]
  },
  {
   "cell_type": "code",
   "execution_count": null,
   "id": "20ac1509",
   "metadata": {},
   "outputs": [],
   "source": [
    "data = [go.Surface(z = z)]"
   ]
  },
  {
   "cell_type": "code",
   "execution_count": null,
   "id": "8eb9a14c",
   "metadata": {},
   "outputs": [],
   "source": [
    "#### Display the plot\n",
    "#We see that all the points have been connected by 2D surfaces in order to generate the surface plot in 3-dimensional space.\n",
    "\n",
    "#One may need to zoom out to view the full plot"
   ]
  },
  {
   "cell_type": "code",
   "execution_count": null,
   "id": "34944479",
   "metadata": {},
   "outputs": [],
   "source": [
    "offline.iplot(data)"
   ]
  },
  {
   "cell_type": "code",
   "execution_count": null,
   "id": "f9e193ef",
   "metadata": {},
   "outputs": [],
   "source": [
    "### Real-life use case\n",
    "#We obtain the elevations for a set of points for a volcano. The columns represent the x coordinates while the rows denote the y coordinates."
   ]
  },
  {
   "cell_type": "code",
   "execution_count": null,
   "id": "b1b456ff",
   "metadata": {},
   "outputs": [],
   "source": [
    "volcano = pd.read_csv('https://python-graph-gallery.com/wp-content/uploads/volcano.csv')"
   ]
  },
  {
   "cell_type": "code",
   "execution_count": null,
   "id": "b46b5e34",
   "metadata": {},
   "outputs": [],
   "source": [
    "#volcano\n",
    "#### Generate a 2D numpy array containing our z values"
   ]
  },
  {
   "cell_type": "code",
   "execution_count": null,
   "id": "ee30c706",
   "metadata": {},
   "outputs": [],
   "source": [
    "volcano.values"
   ]
  },
  {
   "cell_type": "code",
   "execution_count": null,
   "id": "1767fee9",
   "metadata": {},
   "outputs": [],
   "source": [
    "#### Define the surface plot\n",
    "#Here, we use volcano.values to produce a 2D numpy array which will be used to generate the plot. We can also specify the colorscale we would like to use for this representation."
   ]
  },
  {
   "cell_type": "code",
   "execution_count": null,
   "id": "f93d72cf",
   "metadata": {},
   "outputs": [],
   "source": [
    "data = [go.Surface(z = volcano.values, \n",
    "                   colorscale = 'Jet')]"
   ]
  },
  {
   "cell_type": "code",
   "execution_count": null,
   "id": "9c904621",
   "metadata": {},
   "outputs": [],
   "source": [
    "layout = go.Layout(title='Volcano Elevation',\n",
    "                   autosize=False,\n",
    "                   width=500,\n",
    "                   height=500\n",
    "                  )"
   ]
  },
  {
   "cell_type": "code",
   "execution_count": null,
   "id": "1ec16c52",
   "metadata": {},
   "outputs": [],
   "source": [
    "fig = go.Figure(data=data, layout=layout)\n",
    "\n",
    "offline.iplot(fig)"
   ]
  }
 ],
 "metadata": {
  "kernelspec": {
   "display_name": "Python 3 (ipykernel)",
   "language": "python",
   "name": "python3"
  },
  "language_info": {
   "codemirror_mode": {
    "name": "ipython",
    "version": 3
   },
   "file_extension": ".py",
   "mimetype": "text/x-python",
   "name": "python",
   "nbconvert_exporter": "python",
   "pygments_lexer": "ipython3",
   "version": "3.7.13"
  }
 },
 "nbformat": 4,
 "nbformat_minor": 5
}
